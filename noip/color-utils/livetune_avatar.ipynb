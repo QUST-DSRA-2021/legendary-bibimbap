{
 "cells": [
  {
   "cell_type": "code",
   "execution_count": 4,
   "metadata": {},
   "outputs": [],
   "source": [
    "import numpy as np\n",
    "\n",
    "class Colorpair(object):\n",
    "    def __init__(self, color1 : np.array, color2 : np.array):\n",
    "        assert color1.min() == 0. and color1.max() == 255.\n",
    "        assert color2.min() == 0. and color2.max() == 255.\n",
    "        self.c1 = np.array(color1)\n",
    "        self.c2 = np.array(color2)"
   ]
  },
  {
   "cell_type": "code",
   "execution_count": 6,
   "metadata": {},
   "outputs": [
    {
     "data": {
      "text/plain": [
       "<__main__.Colorpair at 0x7f338d37d5c0>"
      ]
     },
     "execution_count": 6,
     "metadata": {},
     "output_type": "execute_result"
    }
   ],
   "source": [
    "Colorpair(np.array([0, 0xd3, 255]), np.array([255, 0xbe, 0]))"
   ]
  },
  {
   "cell_type": "code",
   "execution_count": null,
   "metadata": {},
   "outputs": [],
   "source": []
  }
 ],
 "metadata": {
  "interpreter": {
   "hash": "bbcf85243492085a6c9858ab1d2fd7dd990552ab13943c836d47e99e914b8206"
  },
  "kernelspec": {
   "display_name": "Python 3.7.0 64-bit ('keras-2.3.1': conda)",
   "language": "python",
   "name": "python3"
  },
  "language_info": {
   "codemirror_mode": {
    "name": "ipython",
    "version": 3
   },
   "file_extension": ".py",
   "mimetype": "text/x-python",
   "name": "python",
   "nbconvert_exporter": "python",
   "pygments_lexer": "ipython3",
   "version": "3.7.0"
  },
  "orig_nbformat": 4
 },
 "nbformat": 4,
 "nbformat_minor": 2
}
