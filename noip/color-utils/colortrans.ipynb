{
 "cells": [
  {
   "cell_type": "code",
   "execution_count": 1,
   "metadata": {},
   "outputs": [
    {
     "name": "stderr",
     "output_type": "stream",
     "text": [
      "D:\\Anaconda3\\lib\\site-packages\\h5py\\__init__.py:36: FutureWarning: Conversion of the second argument of issubdtype from `float` to `np.floating` is deprecated. In future, it will be treated as `np.float64 == np.dtype(float).type`.\n",
      "  from ._conv import register_converters as _register_converters\n",
      "Using TensorFlow backend.\n"
     ]
    }
   ],
   "source": [
    "import numpy as np\n",
    "import keras\n",
    "from keras.preprocessing import image as img"
   ]
  },
  {
   "cell_type": "code",
   "execution_count": 2,
   "metadata": {},
   "outputs": [
    {
     "name": "stdout",
     "output_type": "stream",
     "text": [
      "1.14.3\n",
      "1.11.0\n",
      "2.1.6\n"
     ]
    }
   ],
   "source": [
    "print(np.__version__, keras.backend.tf.__version__, keras.__version__, sep=\"\\n\")"
   ]
  },
  {
   "cell_type": "code",
   "execution_count": null,
   "metadata": {},
   "outputs": [],
   "source": [
    "PATH_BASE = \".\"\n",
    "DEV = (0xbb - 0x39) / (0xc5 - 0x39)"
   ]
  },
  {
   "cell_type": "code",
   "execution_count": null,
   "metadata": {},
   "outputs": [],
   "source": [
    "rawimg = img.load_img(\"%s/Windows.jpeg\" % PATH_BASE)\n",
    "rawarr = img.img_to_array(rawimg)"
   ]
  },
  {
   "cell_type": "code",
   "execution_count": null,
   "metadata": {},
   "outputs": [],
   "source": [
    "def transcolor(rawcolor):\n",
    "    elemax = rawcolor.max()\n",
    "    elemin = rawcolor.min()\n",
    "    elemid = (1 - DEV) * elemin + DEV * elemax\n",
    "    return np.array([ elemin, elemax, elemid ])"
   ]
  },
  {
   "cell_type": "code",
   "execution_count": null,
   "metadata": {},
   "outputs": [],
   "source": [
    "newarr = np.zeros(rawarr.shape)\n",
    "for k in range(rawarr.shape[0]):\n",
    "    for l in range(rawarr.shape[1]):\n",
    "        newarr[k, l] += transcolor(transcolor(rawarr[k, l]))\n",
    "newimg = img.array_to_img(newarr)"
   ]
  },
  {
   "cell_type": "code",
   "execution_count": null,
   "metadata": {},
   "outputs": [],
   "source": [
    "newimg.save(\"%s/Winmiku.jpeg\" % PATH_BASE)"
   ]
  },
  {
   "cell_type": "code",
   "execution_count": null,
   "metadata": {},
   "outputs": [],
   "source": [
    "# For Generating Square Avatars\n",
    "sidelen = np.max(rawarr.shape)\n",
    "largerarr = np.ones((sidelen, sidelen, 3)) * 255\n",
    "largerarr[\n",
    "    sidelen // 2 - rawarr.shape[0] // 2 : sidelen // 2 + rawarr.shape[0] // 2 ,\n",
    "    sidelen // 2 - rawarr.shape[1] // 2 : sidelen // 2 + rawarr.shape[1] // 2 ,\n",
    "    :\n",
    "    ] = newarr.copy()\n",
    "largerimg = img.array_to_img(largerarr)"
   ]
  },
  {
   "cell_type": "code",
   "execution_count": null,
   "metadata": {},
   "outputs": [],
   "source": []
  }
 ],
 "metadata": {
  "interpreter": {
   "hash": "a8f61be024eba58adef938c9aa1e29e02cb3dece83a5348b1a2dafd16a070453"
  },
  "kernelspec": {
   "display_name": "Python 3.6.5 64-bit ('base': conda)",
   "language": "python",
   "name": "python3"
  },
  "language_info": {
   "codemirror_mode": {
    "name": "ipython",
    "version": 3
   },
   "file_extension": ".py",
   "mimetype": "text/x-python",
   "name": "python",
   "nbconvert_exporter": "python",
   "pygments_lexer": "ipython3",
   "version": "3.6.5"
  },
  "orig_nbformat": 4
 },
 "nbformat": 4,
 "nbformat_minor": 2
}
