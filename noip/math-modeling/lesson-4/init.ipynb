{
 "cells": [
  {
   "cell_type": "markdown",
   "metadata": {},
   "source": [
    "设购买单位质量货物的费用为 $k$ ，对于允许缺货模型，每天平均费用更新为\n",
    "\n",
    "$$ c(T, Q) = \\frac1T [c_1 + \\frac{c_2 Q^2}{2 r} + \\frac{c_3}{2 r}{(r T - Q)}^2 + kR ] $$\n",
    "\n",
    "其中 $R = r T$ ，故\n",
    "\n",
    "$$ c(T, Q)\n",
    "= \\frac1T [c_1 + \\frac{c_2 Q^2}{2 r} + \\frac{c_3}{2 r}{(r T - Q)}^2 + kR ]\n",
    "= \\frac1T [c_1 + \\frac{c_2 Q^2}{2 r} + \\frac{c_3}{2 r}{(r T - Q)}^2 ] + k r $$\n",
    "\n",
    "令 $\\frac{\\partial c}{\\partial T} = 0, \\frac{\\partial c}{\\partial Q} = 0$ 则有\n",
    "\n",
    "$$ T^{(1)} = \\sqrt{\\frac{2 c_1}{c_2 r} \\frac{c_2 + c_3}{c_3}}, Q^{(1)} = \\sqrt{\\frac{2 c_1 r}{c_2} \\frac{c_2 + c_3}{c_3}} $$"
   ]
  },
  {
   "cell_type": "code",
   "execution_count": null,
   "metadata": {},
   "outputs": [],
   "source": []
  },
  {
   "cell_type": "markdown",
   "metadata": {},
   "source": [
    "根据题意，\n",
    "\n",
    "$$ f(x)=\\left\\{\n",
    "\\begin{aligned}\n",
    "a & - b p_1 & {0 < t < \\frac T 2} \\\\\n",
    "a & - b p_2 & {\\frac T 2 < t < T} \\\\\n",
    "\\end{aligned}\n",
    "\\right.\n",
    "$$\n",
    "\n",
    "设总利润为 $M$ ，则\n",
    "\n",
    "$$ M = \\int_0^{\\frac T 2}(p_1 - (q_0 + \\beta t))(a - b p_1)dt + \\int_{\\frac T 2}^T(p_2 - (q_0 + \\beta t))(a - b p_2)dt \\\\\n",
    "= (a - b p_1)(\\frac{p_1 T}2 - \\frac{q_0 T}2 - \\frac{\\beta T^2}8) + (a - b p_2)(\\frac{p_2 T}2 - \\frac{q_0 T}2 - \\frac{3 \\beta T^2}8) $$\n",
    "\n",
    "故\n",
    "\n",
    "$$ \\frac{\\partial M}{\\partial p_1} = -b(\\frac{p_1 T}2 - \\frac{q_0 T}2 - \\frac{\\beta T^2}8) + \\frac T 2 (a - b p_1) $$\n",
    "$$ \\frac{\\partial M}{\\partial p_2} = -b(\\frac{p_2 T}2 - \\frac{q_0 T}2 - \\frac{3 \\beta T^2}8) + \\frac T 2 (a - b p_2) $$\n",
    "\n",
    "令 $ \\frac{\\partial M}{\\partial p_1} = \\frac{\\partial M}{\\partial p_2} = 0 $ 得\n",
    "\n",
    "$$ p_1 = \\frac{a + b q_0 + \\frac{b \\beta T}4}{2 b}, p_2 = \\frac{a + b q_0 + \\frac{3 b \\beta T}4}{2 b} $$\n",
    "\n",
    "故\n",
    "\n",
    "$$ Q_0 = \\int_0^{\\frac T 2}(a - b p_1)dt + \\int_{\\frac T 2}^T (a - b p_2)dt = a T - \\frac{b T}2(p_1 + p_2) $$\n",
    "\n",
    "故当\n",
    "\n",
    "$$\\left\\{\n",
    "\\begin{aligned}\n",
    "p_1 = \\frac a b - \\frac{Q_0}{b T} - \\frac{\\beta t}8 \\\\\n",
    "p_2 = \\frac a b - \\frac{Q_0}{b T} + \\frac{\\beta t}8 \\\\\n",
    "\\end{aligned}\n",
    "\\right.\n",
    "$$\n",
    "\n",
    "时， $M$ 取最大值"
   ]
  },
  {
   "cell_type": "code",
   "execution_count": null,
   "metadata": {},
   "outputs": [],
   "source": []
  }
 ],
 "metadata": {
  "kernelspec": {
   "display_name": "Python 3",
   "language": "python",
   "name": "python3"
  },
  "language_info": {
   "codemirror_mode": {
    "name": "ipython",
    "version": 3
   },
   "file_extension": ".py",
   "mimetype": "text/x-python",
   "name": "python",
   "nbconvert_exporter": "python",
   "pygments_lexer": "ipython3",
   "version": "3.7.0"
  }
 },
 "nbformat": 4,
 "nbformat_minor": 2
}
