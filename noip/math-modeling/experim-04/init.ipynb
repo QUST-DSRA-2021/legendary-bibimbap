{
 "cells": [
  {
   "cell_type": "code",
   "execution_count": 11,
   "metadata": {},
   "outputs": [],
   "source": [
    "import numpy as np\n",
    "import sympy as sym\n",
    "import scipy, scipy.integrate\n",
    "from matplotlib import pyplot as plt\n",
    "plt.style.use(\"solarized-light\")"
   ]
  },
  {
   "cell_type": "code",
   "execution_count": 5,
   "metadata": {},
   "outputs": [
    {
     "name": "stdout",
     "output_type": "stream",
     "text": [
      "Eq(y(x), (C1 - cos(x))/(x**2 - 1))\n",
      "Eq(y(x), (C1*sin(2*x) + C2*cos(2*x) + sin(x)/3)*exp(x))\n"
     ]
    }
   ],
   "source": [
    "x, y = sym.Symbol(\"x\", real=True), sym.Symbol(\"y\", function=True)\n",
    "print(sym.dsolve(sym.Eq(\n",
    "    (x * x - 1) * y(x).diff(x) + 2 * x * y(x),\n",
    "    sym.sin(x)\n",
    "    ), y(x)))\n",
    "print(sym.dsolve(sym.Eq(\n",
    "    y(x).diff(x, x) - 2 * y(x).diff(x) + 5 * y(x),\n",
    "    sym.sin(x) * sym.exp(x)\n",
    "    ), y(x)))"
   ]
  },
  {
   "cell_type": "code",
   "execution_count": 9,
   "metadata": {},
   "outputs": [
    {
     "name": "stdout",
     "output_type": "stream",
     "text": [
      "[Eq(x(t), -(-1/2 + sqrt(2)/4)*exp(sqrt(2)*t) - (-1/2 - sqrt(2)/4)*exp(-sqrt(2)*t)), Eq(y(t), (-1/2 + sqrt(2)/4)*(1 + sqrt(2))*exp(sqrt(2)*t) + (-1/2 - sqrt(2)/4)*(-sqrt(2) + 1)*exp(-sqrt(2)*t))]\n"
     ]
    }
   ],
   "source": [
    "t, x, y = sym.Symbol(\"t\", real=True), sym.Symbol(\"x\", function=True), sym.Symbol(\"y\", function=True)\n",
    "print(sym.dsolve([\n",
    "    sym.Eq(x(t).diff(t) + x(t) + y(t)),\n",
    "    sym.Eq(y(t).diff(t) + x(t) - y(t)),\n",
    "    ], [\n",
    "    x(t),\n",
    "    y(t),\n",
    "    ], ics={\n",
    "    x(0): 1,\n",
    "    y(0): 0,\n",
    "    }))"
   ]
  },
  {
   "cell_type": "markdown",
   "metadata": {},
   "source": [
    "$$ y(x) = \\frac{C_1 - \\cos{x}}{x^2 - 1} $$\n",
    "\n",
    "$$ y(x) = (C_1 \\sin{2x} + C_2 \\cos{2x} + \\frac{\\sin{x}}{3}) \\exp{x} $$\n",
    "\n",
    "$$ x(t) = \\frac{2 - \\sqrt{2}}{4} \\exp{\\{\\sqrt{2} t\\}} + \\frac{2 + \\sqrt{2}}{4} \\exp{\\{-\\sqrt{2} t\\}} $$\n",
    "$$ y(t) = \\frac{\\sqrt{2} - 2}{4} (1 + \\sqrt{2}) \\exp{\\{\\sqrt{2} t\\}} - \\frac{\\sqrt{2} + 2}{4} (1 - \\sqrt{2}) \\exp{\\{-\\sqrt{2} t\\}} $$"
   ]
  },
  {
   "cell_type": "code",
   "execution_count": 16,
   "metadata": {},
   "outputs": [
    {
     "data": {
      "image/png": "[encoded data removed]",
      "text/plain": [
       "<Figure size 432x288 with 1 Axes>"
      ]
     },
     "metadata": {
      "needs_background": "light"
     },
     "output_type": "display_data"
    }
   ],
   "source": [
    "t = np.arange(0, 2, .001)\n",
    "x = -(-1/2 + np.sqrt(2)/4)*np.exp(np.sqrt(2)*t) - (-1/2 - np.sqrt(2)/4)*np.exp(-np.sqrt(2)*t)\n",
    "y = (-1/2 + np.sqrt(2)/4)*(1 + np.sqrt(2))*np.exp(np.sqrt(2)*t) + (-1/2 - np.sqrt(2)/4)*(-np.sqrt(2) + 1)*np.exp(-np.sqrt(2)*t)\n",
    "\n",
    "plt.plot(t, x)\n",
    "plt.plot(t, y)\n",
    "\n",
    "plt.savefig(\"./figure.jpeg\")\n",
    "\n",
    "plt.show()"
   ]
  },
  {
   "cell_type": "code",
   "execution_count": null,
   "metadata": {},
   "outputs": [],
   "source": []
  }
 ],
 "metadata": {
  "interpreter": {
   "hash": "bbcf85243492085a6c9858ab1d2fd7dd990552ab13943c836d47e99e914b8206"
  },
  "kernelspec": {
   "display_name": "Python 3.7.0 64-bit ('keras-2.3.1': conda)",
   "language": "python",
   "name": "python3"
  },
  "language_info": {
   "codemirror_mode": {
    "name": "ipython",
    "version": 3
   },
   "file_extension": ".py",
   "mimetype": "text/x-python",
   "name": "python",
   "nbconvert_exporter": "python",
   "pygments_lexer": "ipython3",
   "version": "3.7.0"
  },
  "orig_nbformat": 4
 },
 "nbformat": 4,
 "nbformat_minor": 2
}
