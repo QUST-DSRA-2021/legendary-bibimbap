{
 "cells": [
  {
   "cell_type": "markdown",
   "metadata": {},
   "source": [
    "现在原材料皆为`7.4m`，共需要`2.9m`，`2.1m`，`1.5m`，三种材料各`100根`。共有 $7$ 种切割模式\n",
    "\n",
    "| | `2.9m` | `2.1m` | `1.5m` | 余料 |\n",
    "|-|--------|--------|--------|------|\n",
    "| 1 | 2 | 0 | 1 | `0.1m` |\n",
    "| 2 | 1 | 2 | 0 | `0.3m` |\n",
    "| 3 | 1 | 0 | 3 | `0m` |\n",
    "| 4 | 0 | 3 | 0 | `1.1m` |\n",
    "| 5 | 0 | 2 | 2 | `0.2m` |\n",
    "| 6 | 0 | 1 | 3 | `0.8m` |\n",
    "| 7 | 0 | 0 | 4 | `1.4m` |\n",
    "\n",
    "设 $x_k$ 为第 $k$ 种模式切割钢管的根数，显然 $$x_k为整数且 x_k >= 0$$\n",
    "决策目标为原材料最省，即 $$\\argmin_{x_k}{z} = x_1 + x_2 + ... + x_7$$\n",
    "约束条件如下\n",
    "\n",
    "* $2 x_1 +  x_2 + x_3 >= 100$\n",
    "* $2 x_2 + 3 x_4 + 2 x_5 + x_6 >= 100$\n",
    "* $x_1 + 3 x_3 + 2 x_5 + 3 x_6 + 4 x_7 >= 100$"
   ]
  },
  {
   "cell_type": "code",
   "execution_count": null,
   "metadata": {},
   "outputs": [],
   "source": []
  }
 ],
 "metadata": {
  "interpreter": {
   "hash": "bbcf85243492085a6c9858ab1d2fd7dd990552ab13943c836d47e99e914b8206"
  },
  "kernelspec": {
   "display_name": "Python 3.7.0 64-bit ('keras-2.3.1': conda)",
   "language": "python",
   "name": "python3"
  },
  "language_info": {
   "codemirror_mode": {
    "name": "ipython",
    "version": 3
   },
   "file_extension": ".py",
   "mimetype": "text/x-python",
   "name": "python",
   "nbconvert_exporter": "python",
   "pygments_lexer": "ipython3",
   "version": "3.7.0"
  },
  "orig_nbformat": 4
 },
 "nbformat": 4,
 "nbformat_minor": 2
}
