{
 "cells": [
  {
   "cell_type": "code",
   "execution_count": 12,
   "metadata": {},
   "outputs": [
    {
     "name": "stdout",
     "output_type": "stream",
     "text": [
      "[0.31406251]\n",
      "[0.66873277]\n",
      "[-0.30901699  0.20601133]\n",
      "[0.48712435 0.35985807]\n"
     ]
    },
    {
     "name": "stderr",
     "output_type": "stream",
     "text": [
      "/home/sandyzikun/anaconda3/envs/keras-2.3.1/lib/python3.7/site-packages/scipy/optimize/minpack.py:163: RuntimeWarning: The iteration is not making good progress, as measured by the \n",
      "  improvement from the last ten iterations.\n",
      "  warnings.warn(msg, RuntimeWarning)\n",
      "/home/sandyzikun/anaconda3/envs/keras-2.3.1/lib/python3.7/site-packages/scipy/optimize/minpack.py:163: RuntimeWarning: The iteration is not making good progress, as measured by the \n",
      "  improvement from the last five Jacobian evaluations.\n",
      "  warnings.warn(msg, RuntimeWarning)\n"
     ]
    }
   ],
   "source": [
    "import numpy as np, scipy.optimize\n",
    "\n",
    "print(scipy.optimize.fsolve(lambda x : [(8 * x[0] - 5) * x[0] + 6], [0.]))\n",
    "\n",
    "print(scipy.optimize.fsolve(lambda x : [(x[0] ** 4 - 1) * x[0] + 1], [0.]))\n",
    "\n",
    "print(scipy.optimize.fsolve(lambda x : [\n",
    "    2 * x[0] + 3 * x[1],\n",
    "    4 * x[0] ** 2 + 3 * x[1] - 1\n",
    "], [0., 0.]))\n",
    "\n",
    "print(scipy.optimize.fsolve(lambda x : [\n",
    "    2 * x[0] - x[1] - np.exp(-x[0]),\n",
    "    -3 * x[0] + 6 * x[1] - np.exp(-x[1])\n",
    "], [0., 0.]))"
   ]
  },
  {
   "cell_type": "code",
   "execution_count": null,
   "metadata": {},
   "outputs": [],
   "source": []
  }
 ],
 "metadata": {
  "interpreter": {
   "hash": "bbcf85243492085a6c9858ab1d2fd7dd990552ab13943c836d47e99e914b8206"
  },
  "kernelspec": {
   "display_name": "Python 3.7.0 64-bit ('keras-2.3.1': conda)",
   "language": "python",
   "name": "python3"
  },
  "language_info": {
   "codemirror_mode": {
    "name": "ipython",
    "version": 3
   },
   "file_extension": ".py",
   "mimetype": "text/x-python",
   "name": "python",
   "nbconvert_exporter": "python",
   "pygments_lexer": "ipython3",
   "version": "3.7.0"
  },
  "orig_nbformat": 4
 },
 "nbformat": 4,
 "nbformat_minor": 2
}
