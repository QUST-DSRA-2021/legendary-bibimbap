{
 "cells": [
  {
   "cell_type": "markdown",
   "metadata": {},
   "source": [
    "## 玻璃窗散热问题\n",
    "\n",
    "### 题目描述\n",
    "\n",
    "北方旧宅改造时，为了增强保暖效果常用保温材料在外墙外面再加一层墙，假定只考虑热传导，试通过建模对改造后减少的热量损失给出定量分析，并获取有关数据进行计算。\n",
    "\n",
    "### 题目分析\n",
    "\n",
    "根据题意，我们绘制示意图如下（图片来自网络相关资料）：\n",
    "\n",
    "![示意图, img1.jpeg](./img1.jpeg)\n",
    "\n",
    "根据相关物理知识，我们已知：\n",
    "\n",
    "1. 热量总是从温度较高的一方传向温度较低的一方；\n",
    "\n",
    "2. 热量的传递 $Q$ 与温度差 $\\Delta T$ ，接触面积 $S$ 成正比，与 墙体厚度 $d$ 成反比，于是有以下表达式\n",
    "\n",
    "$$ Q = k S \\frac{\\Delta T}{d} \\tag{1}$$\n",
    "\n",
    "### 模型假设\n",
    "\n",
    "1. 热量的传播过程仅限热传导，热对流、热辐射所产生的影响可以忽略不计；\n",
    "2. 墙体的密封性很好，两层墙体之间不存在空气流动；\n",
    "3. 室内温度 $T_1$ 与室外温度 $T_2$ 保持不变，热传导过程已经处于相对稳定状态，即单位时间内，沿传导方向通过单位面积的热量是常数；\n",
    "\n",
    "### 模型构建\n",
    "\n",
    "对于通过单位面积的热量，考察双层墙的情况，有\n",
    "\n",
    "$$ Q_1 = k_1 \\cdot \\frac{T_a - T_1}{d} = k_2 \\cdot \\frac{T_b - T_a}{l} = k_1 \\cdot \\frac{T_b - T_2}{d} \\tag{2}$$\n",
    "\n",
    "其中， $k_1$ 为砖块的热传导系数， $k_2$ 为墙体之间的空气的热传导系数， $d$ 为墙体厚度， $l$ 为墙体之间的距离。对于上式，消去 $T_a, T_b$ 则有\n",
    "\n",
    "$$ Q_1 = \\frac{k_1 \\cdot (T_1 - T_2)}{d \\cdot (s + 2)}, s = h \\cdot \\frac{k_1}{k_2}, h = \\frac{l}{d} \\tag{3}$$\n",
    "\n",
    "如若使用同样多的材料建造单层墙，则墙体厚度为 $2d$ ，此时有\n",
    "\n",
    "$$ Q_2 = k_1 \\cdot \\frac{T_1 - T_2}{2d} \\tag{4}$$\n",
    "\n",
    "可得二者比值\n",
    "\n",
    "$$ \\frac{Q_1}{Q_2} = \\frac{2}{s + 2} \\tag{5}$$\n",
    "\n",
    "由于总有 $s > 0$ ，显然 $Q_2 > Q_1$ ，具体比值与变量 $s$ 相关。根据相关资料，墙体和不流通干燥空气的导热系数分别为\n",
    "\n",
    "$$ k_1 = 4.07 \\times {10}^{-4} kJ / (m \\cdot s \\cdot K) \\tag{6}$$\n",
    "$$ k_2 = 2.50 \\times {10}^{-5} kJ / (m \\cdot s \\cdot K) \\tag{7}$$\n",
    "\n",
    "代入式 $(3)$ 则有\n",
    "\n",
    "$$ s = 16.28 \\cdot \\frac{l}{d} \\tag{8}$$"
   ]
  },
  {
   "cell_type": "code",
   "execution_count": 2,
   "metadata": {},
   "outputs": [
    {
     "data": {
      "image/png": "[encoded data removed]",
      "text/plain": [
       "<Figure size 576x396 with 1 Axes>"
      ]
     },
     "metadata": {},
     "output_type": "display_data"
    }
   ],
   "source": [
    "import numpy as np\n",
    "from matplotlib import pyplot as plt\n",
    "plt.style.use(\"solarized-light\")\n",
    "\n",
    "arr_l_d = np.array([ k / 10 for k in range(70) ])\n",
    "\n",
    "plt.plot(arr_l_d, 2 / (16.28 * arr_l_d + 2))\n",
    "\n",
    "plt.show()"
   ]
  },
  {
   "cell_type": "code",
   "execution_count": null,
   "metadata": {},
   "outputs": [],
   "source": []
  }
 ],
 "metadata": {
  "kernelspec": {
   "display_name": "Python 3",
   "language": "python",
   "name": "python3"
  },
  "language_info": {
   "codemirror_mode": {
    "name": "ipython",
    "version": 3
   },
   "file_extension": ".py",
   "mimetype": "text/x-python",
   "name": "python",
   "nbconvert_exporter": "python",
   "pygments_lexer": "ipython3",
   "version": "3.7.0"
  }
 },
 "nbformat": 4,
 "nbformat_minor": 2
}
