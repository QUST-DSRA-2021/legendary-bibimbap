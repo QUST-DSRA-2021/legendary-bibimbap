{
 "cells": [
  {
   "cell_type": "markdown",
   "metadata": {},
   "source": [
    "对于`不允许缺货的存贮模型`，\n",
    "根据题意，购买货物的费用增加 $d$ ，则每日的平均费用为\n",
    "$$ c(T) = \\frac{c_1}T + \\frac{c_2 r T}2 + d $$\n",
    "令 $ \\frac{dc}{dT} = 0 $ 则有\n",
    "$$ T = \\sqrt{\\frac{2 c_1}{r c_2}}, Q = r T = \\sqrt{\\frac{2 c_1 r}{c_2}} $$\n",
    "与增加前情况不变。"
   ]
  },
  {
   "cell_type": "markdown",
   "metadata": {},
   "source": []
  }
 ],
 "metadata": {
  "kernelspec": {
   "display_name": "Python 3",
   "language": "python",
   "name": "python3"
  },
  "language_info": {
   "codemirror_mode": {
    "name": "ipython",
    "version": 3
   },
   "file_extension": ".py",
   "mimetype": "text/x-python",
   "name": "python",
   "nbconvert_exporter": "python",
   "pygments_lexer": "ipython3",
   "version": "3.7.0"
  }
 },
 "nbformat": 4,
 "nbformat_minor": 2
}
