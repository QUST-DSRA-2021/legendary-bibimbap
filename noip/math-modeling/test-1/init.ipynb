{
 "cells": [
  {
   "cell_type": "markdown",
   "metadata": {},
   "source": [
    "## T1\n",
    "\n",
    "一般地说，数学模型可以描述为，对于现实世界的一个特定对象，为了一个特定目的，根据特有的内在规律，作出一些必要的简化假设，运用适当的数学工具，得到一个数学结构。\n",
    "数学模型按照不同的分类方式有如下多种分类：\n",
    "\n",
    "1. 根据应用领域可分为：人口模型、交通模型、环境模型、生态模型、城镇规划模型、水资源模型、再生资源利用模型、污染模型等；范畴更大一些则形成许多边缘学科如：生物数学、医学数学、地址数学、数量经济学、数学社会学等；\n",
    "2. 根据建立模型的数学方法可分为：初等模型、几何模型、微分方程模型、统计回归模型、数学规划模型等；\n",
    "3. 根据模型的表现特性又可以分为：静态模型与动态模型、线性模型与非线性模型、离散模型与连续模型等；\n",
    "4. 根据建模目的可分为：描述模型、预报模型、优化模型、决策模型、控制模型等；\n",
    "5. 根据对模型结构的了解程度可分为白箱模型、灰箱模型、黑箱模型等；"
   ]
  },
  {
   "cell_type": "markdown",
   "metadata": {},
   "source": [
    "## T2\n",
    "\n",
    "记雕像基座高 $b=$ `4.1m` ，雕像本体高 $h=$ `6m` ，身高为 $c=$ `{ 1.6m, 1.65m, 1.7m, 1.75m, 1.8m }` 的人与雕像为 $d(c)$ ，以上各变量服从SI(国际单位制)，则对于身高为 $c$ 的人，其仰角 $\\beta(c, d)$ 满足 $$ \\tan{\\beta} = \\frac{h + b - c}d $$ ，其视角 $\\alpha(c, d)$ 满足 $$ \\tan{(\\beta-\\alpha)} = \\frac{b - c}d $$ ，故有 $$ \\beta = \\arctan{\\frac{h + b - c}d} $$ $$ \\beta - \\alpha = \\arctan{\\frac{b - c}d} $$ $$ \\alpha = \\beta - (\\beta - \\alpha) = \\arctan{\\frac{h + b - c}d} - \\arctan{\\frac{b - c}d} $$ 则对于任一确定的 $c$ ，优化目标可以化为 $$ \\argmax_{d}{\\alpha(d)} $$ ，约束条件为 $$ \\beta(d) \\leq \\frac{\\pi}6 $$ ，使 $\\alpha$ 对 $d$ 求导得 $$ \\frac{\\mathrm{d}{\\alpha}}{\\mathrm{d}d} = h\\frac{(h+b-c)(b-c)-d^2}{[d^2+{(b-c)}^2][d^2+{(h+b-c)}^2]} $$ 故其正负号与 $$ (h + b - c) (b - c) - d^2 $$ 相同，又 $$ (h + b - c) (b - c) > 0 $$ 故 $$ d = \\sqrt{(h + b - c) (b - c)} $$ 时有 $\\alpha(d)$ 最大值，又 $d \\geq \\sqrt{3} (h + b - c) > \\sqrt{(h + b - c) (b - c)}$ 故有 $$ d = \\max\\{ \\sqrt{(h + b - c) (b - c)}, \\sqrt{3} (h + b - c) \\} = \\sqrt{3} (h + b - c) $$"
   ]
  },
  {
   "cell_type": "markdown",
   "metadata": {},
   "source": [
    "## T3\n",
    "\n",
    "根据题意，设`10`个候选点`A, B, ..., J`的坐标为 $\\{(x_k, y_k)\\}_{k=1}^{10}$，对应的充电站等级为 $\\{t_k\\}_{k=1}^{10}$，从而其服务能力与建设成本分别为 $\\{s_k\\}_{k=1}^{10}$ 与 $\\{c_k\\}_{k=1}^{10}$。设`30`个需求点的坐标为 $\\{(x_l, y_l)\\}_{l=1}^{30}$。建立需求点——充电站间关系的邻接矩阵 $\\{A_{k,l}\\}_{10,30}$，其中 $A_{k,l}$ 表示每日充电站 $k$ 供给需求点 $l$ 的车辆数；建立需求点——充电站间的距离矩阵 $\\{D_{k,l}\\}_{10,30}$，其中 $D_{k,l}$ 表示充电站 $k$ 与需求点 $l$ 之间的距离，满足等式 $$ D_{k,l}^2 = |x_k - x_l|^2 + |y_k - y_l|^2 $$ ，则建设充电站的初始成本为 $$ \\sum_{k=1}^{10}c_k $$ ，用户充电成本为 $$ \\sum_{k=1}^{10} \\sum_{l=1}^{30} (1 D_{k,l}) A_{k,l} $$ ，满足约束条件为对于每个需求点，其接受充电站供给充电车辆数总和不少于需求车辆数。"
   ]
  },
  {
   "cell_type": "markdown",
   "metadata": {},
   "source": []
  },
  {
   "cell_type": "code",
   "execution_count": null,
   "metadata": {},
   "outputs": [],
   "source": []
  }
 ],
 "metadata": {
  "interpreter": {
   "hash": "bbcf85243492085a6c9858ab1d2fd7dd990552ab13943c836d47e99e914b8206"
  },
  "kernelspec": {
   "display_name": "Python 3.7.0 64-bit ('keras-2.3.1': conda)",
   "language": "python",
   "name": "python3"
  },
  "language_info": {
   "codemirror_mode": {
    "name": "ipython",
    "version": 3
   },
   "file_extension": ".py",
   "mimetype": "text/x-python",
   "name": "python",
   "nbconvert_exporter": "python",
   "pygments_lexer": "ipython3",
   "version": "3.7.0"
  },
  "orig_nbformat": 4
 },
 "nbformat": 4,
 "nbformat_minor": 2
}
