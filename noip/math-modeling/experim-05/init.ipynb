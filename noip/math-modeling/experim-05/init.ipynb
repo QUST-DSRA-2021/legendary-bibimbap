{
 "cells": [
  {
   "cell_type": "code",
   "execution_count": 9,
   "metadata": {},
   "outputs": [
    {
     "name": "stdout",
     "output_type": "stream",
     "text": [
      "              2\n",
      "/   2    \\  -x \n",
      "\\- x  - 1/*e   \n",
      "---------------\n",
      "       2       \n",
      "\n",
      "      /1\\\n",
      "-asinh|-|\n",
      "      \\x/\n",
      "\n"
     ]
    }
   ],
   "source": [
    "import numpy as np\n",
    "import sympy as sym\n",
    "import scipy, scipy.integrate\n",
    "\n",
    "sym.init_printing()\n",
    "x, y, z = sym.symbols(\"x y z\")\n",
    "\n",
    "sym.pprint(sym.integrate(x ** 3 * sym.exp(-x ** 2), x), use_unicode=False)\n",
    "print()\n",
    "sym.pprint(sym.integrate((x * sym.sqrt(x ** 2 + 1)) ** (-1), x), use_unicode=False)\n",
    "print()"
   ]
  },
  {
   "cell_type": "code",
   "execution_count": 2,
   "metadata": {},
   "outputs": [
    {
     "name": "stdout",
     "output_type": "stream",
     "text": [
      "              2\n",
      "/   2    \\  -x \n",
      "\\- x  - 1/*e   \n",
      "---------------\n",
      "       2       \n",
      "\n",
      "      /1\\\n",
      "-asinh|-|\n",
      "      \\x/\n",
      "\n"
     ]
    }
   ],
   "source": [
    "import numpy as np\n",
    "import sympy as sym\n",
    "import scipy, scipy.integrate\n",
    "\n",
    "sym.init_printing()\n",
    "x, y, z = sym.symbols(\"x y z\")\n",
    "\n",
    "sym.pprint(sym.integrate(x ** 3 * sym.exp(-x ** 2), x), use_unicode=False)\n",
    "print()\n",
    "sym.pprint(sym.integrate((x * sym.sqrt(x ** 2 + 1)) ** (-1), x), use_unicode=False)\n",
    "print()"
   ]
  },
  {
   "cell_type": "code",
   "execution_count": 12,
   "metadata": {},
   "outputs": [
    {
     "name": "stdout",
     "output_type": "stream",
     "text": [
      "(0.38353092937345773, 4.258048684462975e-15)\n"
     ]
    }
   ],
   "source": [
    "print(scipy.integrate.quad(\n",
    "    lambda x : (x / (np.sin(x) ** 2)),\n",
    "    np.pi / 4,\n",
    "    np.pi / 3\n",
    "    ))"
   ]
  },
  {
   "cell_type": "code",
   "execution_count": 4,
   "metadata": {},
   "outputs": [
    {
     "name": "stdout",
     "output_type": "stream",
     "text": [
      "(0.38353092937345773, 4.258048684462975e-15)\n"
     ]
    }
   ],
   "source": [
    "print(scipy.integrate.quad(\n",
    "    lambda x : (x / (np.sin(x) ** 2)),\n",
    "    np.pi / 4,\n",
    "    np.pi / 3\n",
    "    ))"
   ]
  },
  {
   "cell_type": "code",
   "execution_count": 3,
   "metadata": {},
   "outputs": [
    {
     "ename": "TypeError",
     "evalue": "quad() missing 2 required positional arguments: 'a' and 'b'",
     "output_type": "error",
     "traceback": [
      "\u001b[0;31m---------------------------------------------------------------------------\u001b[0m",
      "\u001b[0;31mTypeError\u001b[0m                                 Traceback (most recent call last)",
      "\u001b[0;32m<ipython-input-3-8fdbbbe6529c>\u001b[0m in \u001b[0;36m<module>\u001b[0;34m()\u001b[0m\n\u001b[1;32m      1\u001b[0m print(scipy.integrate.quad(\n\u001b[0;32m----> 2\u001b[0;31m     lambda x : (np.sin(x) ** 4) * (np.cos(x) ** 2)),\n\u001b[0m\u001b[1;32m      3\u001b[0m     \u001b[0;36m0\u001b[0m\u001b[0;34m,\u001b[0m\u001b[0;34m\u001b[0m\u001b[0m\n\u001b[1;32m      4\u001b[0m     \u001b[0mnp\u001b[0m\u001b[0;34m.\u001b[0m\u001b[0mpi\u001b[0m \u001b[0;34m/\u001b[0m \u001b[0;36m2\u001b[0m\u001b[0;34m\u001b[0m\u001b[0m\n\u001b[1;32m      5\u001b[0m     )\n",
      "\u001b[0;31mTypeError\u001b[0m: quad() missing 2 required positional arguments: 'a' and 'b'"
     ]
    }
   ],
   "source": [
    "print(scipy.integrate.quad(\n",
    "    lambda x : (np.sin(x) ** 4) * (np.cos(x) ** 2)),\n",
    "    0,\n",
    "    np.pi / 2\n",
    "    )"
   ]
  },
  {
   "cell_type": "code",
   "execution_count": null,
   "metadata": {},
   "outputs": [],
   "source": []
  }
 ],
 "metadata": {
  "interpreter": {
   "hash": "bbcf85243492085a6c9858ab1d2fd7dd990552ab13943c836d47e99e914b8206"
  },
  "kernelspec": {
   "display_name": "Python 3",
   "language": "python",
   "name": "python3"
  },
  "language_info": {
   "codemirror_mode": {
    "name": "ipython",
    "version": 3
   },
   "file_extension": ".py",
   "mimetype": "text/x-python",
   "name": "python",
   "nbconvert_exporter": "python",
   "pygments_lexer": "ipython3",
   "version": "3.7.0"
  }
 },
 "nbformat": 4,
 "nbformat_minor": 2
}
