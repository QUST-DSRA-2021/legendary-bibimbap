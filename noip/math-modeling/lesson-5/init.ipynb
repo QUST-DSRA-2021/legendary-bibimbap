{
 "cells": [
  {
   "cell_type": "markdown",
   "metadata": {},
   "source": [
    "根据题意，\n",
    "$$ \\argmax_{x, y} U(x, y) = \\argmax_{x, y} x^{\\frac 1 2} y $$\n",
    "$$ \\text{s.t. } P_x x + P_y y = x + 4 y = 48 $$"
   ]
  },
  {
   "cell_type": "code",
   "execution_count": 16,
   "metadata": {},
   "outputs": [
    {
     "name": "stdout",
     "output_type": "stream",
     "text": [
      "[19.01267172  7.24683207] 31.598740501657616\n"
     ]
    }
   ],
   "source": [
    "import numpy as np\n",
    "import scipy, scipy.optimize\n",
    "\n",
    "res = scipy.optimize.minimize(\n",
    "    lambda x : (1. / (x[0] ** .5 * x[1])),\n",
    "    (.1, .1),\n",
    "    method = \"SLSQP\",\n",
    "    bounds = ((0, None), (0, None)),\n",
    "    constraints=({\n",
    "        \"type\": \"eq\",\n",
    "        \"fun\": lambda x : (x[0] + 4 * x[1] - 48)\n",
    "        })\n",
    ")\n",
    "print(res.x, res.x[0] ** .5 * res.x[1])"
   ]
  },
  {
   "cell_type": "markdown",
   "metadata": {},
   "source": [
    "优化解得 $ x = 19.01267172, y = 7.24683207 $\n",
    "\n",
    "此时效用函数值最大为 $ s = 31.598740501657616 $"
   ]
  }
 ],
 "metadata": {
  "interpreter": {
   "hash": "bbcf85243492085a6c9858ab1d2fd7dd990552ab13943c836d47e99e914b8206"
  },
  "kernelspec": {
   "display_name": "Python 3.7.0 64-bit ('keras-2.3.1': conda)",
   "name": "python3"
  },
  "language_info": {
   "codemirror_mode": {
    "name": "ipython",
    "version": 3
   },
   "file_extension": ".py",
   "mimetype": "text/x-python",
   "name": "python",
   "nbconvert_exporter": "python",
   "pygments_lexer": "ipython3",
   "version": "3.7.0"
  },
  "orig_nbformat": 4
 },
 "nbformat": 4,
 "nbformat_minor": 2
}
