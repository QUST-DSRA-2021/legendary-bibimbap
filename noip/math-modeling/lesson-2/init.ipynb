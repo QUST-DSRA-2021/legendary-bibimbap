{
 "cells": [
  {
   "cell_type": "code",
   "execution_count": 53,
   "metadata": {},
   "outputs": [],
   "source": [
    "import numpy as np\n",
    "import pandas as pd\n",
    "\n",
    "import scipy\n",
    "from scipy import optimize\n",
    "\n",
    "from matplotlib import pyplot as plt\n",
    "plt.style.use(\"solarized-light\")"
   ]
  },
  {
   "cell_type": "code",
   "execution_count": 2,
   "metadata": {},
   "outputs": [],
   "source": [
    "champions = pd.read_csv(\"./champdata.csv\")"
   ]
  },
  {
   "cell_type": "code",
   "execution_count": 63,
   "metadata": {},
   "outputs": [
    {
     "data": {
      "text/plain": [
       "(     fun: 1939.3462660901662\n",
       "     nfev: 10\n",
       "      nit: 4\n",
       "  success: True\n",
       "        x: 106.23197283654902,\n",
       " array([314.71180186743504, 337.2654908667902, 357.1492800922133,\n",
       "        380.63424410582076, 418.1818618264618, 445.99756411966825,\n",
       "        451.944898580861], dtype=object))"
      ]
     },
     "execution_count": 63,
     "metadata": {},
     "output_type": "execute_result"
    }
   ],
   "source": [
    "arr = champions.values[ : , 1 : ]\n",
    "arr_w1 = (arr[ : , 0 ] - 35) ** (1/3)\n",
    "arr1 = np.concatenate([[arr_w1.astype(\"float64\")], [arr[ : , 1 ].astype(\"float64\")]], axis=0).T\n",
    "floss1 = lambda k : np.sum([ (y - k * w1) ** 2 for (w1, y) in list(arr1) ])\n",
    "minires1 = scipy.optimize.minimize_scalar(floss1)\n",
    "minires1, minires1.x * arr_w1"
   ]
  },
  {
   "cell_type": "code",
   "execution_count": 64,
   "metadata": {},
   "outputs": [
    {
     "data": {
      "text/plain": [
       "(     fun: 1763.622529611162\n",
       "     nfev: 10\n",
       "      nit: 4\n",
       "  success: True\n",
       "        x: 19.965094256440732,\n",
       " array([309.37930169764184, 329.34764826120005, 348.7278280695997,\n",
       "        373.7616262967596, 418.586791657092, 455.5706078386719,\n",
       "        463.89181874427027], dtype=object))"
      ]
     },
     "execution_count": 64,
     "metadata": {},
     "output_type": "execute_result"
    }
   ],
   "source": [
    "arr = champions.values[ : , 1 : ]\n",
    "arr_w2 = arr[ : , 0 ] ** (2/3)\n",
    "arr2 = np.concatenate([[arr_w2.astype(\"float64\")], [arr[ : , 1 ].astype(\"float64\")]], axis=0).T\n",
    "floss2 = lambda k : np.sum([ (y - k * w2) ** 2 for (w2, y) in list(arr2) ])\n",
    "minires2 = scipy.optimize.minimize_scalar(floss2)\n",
    "minires2, minires2.x * arr_w2"
   ]
  },
  {
   "cell_type": "code",
   "execution_count": 65,
   "metadata": {},
   "outputs": [
    {
     "data": {
      "text/plain": [
       "array([313.0, 311.8708413613946, 322.9282459083418, 309.5766143286422,\n",
       "       297.11993249977365, 292.0142288395745, 325.4575595601922],\n",
       "      dtype=object)"
      ]
     },
     "execution_count": 65,
     "metadata": {},
     "output_type": "execute_result"
    }
   ],
   "source": [
    "arr[ : , 1 ] * (61 / arr[ : , 0 ]) ** (2/3)"
   ]
  },
  {
   "cell_type": "code",
   "execution_count": 66,
   "metadata": {},
   "outputs": [
    {
     "data": {
      "text/plain": [
       "array([367.25663586597176, 363.5000886106948, 376.3482910017395,\n",
       "       362.82908071192395, 354.97617456521465, 356.01993164347374,\n",
       "       398.724275033903], dtype=object)"
      ]
     },
     "execution_count": 66,
     "metadata": {},
     "output_type": "execute_result"
    }
   ],
   "source": [
    "arr[ : , 1 ] * ((42 / (arr[ : , 0 ] - 35)) ** (1/3))"
   ]
  }
 ],
 "metadata": {
  "kernelspec": {
   "display_name": "Python 3",
   "language": "python",
   "name": "python3"
  },
  "language_info": {
   "codemirror_mode": {
    "name": "ipython",
    "version": 3
   },
   "file_extension": ".py",
   "mimetype": "text/x-python",
   "name": "python",
   "nbconvert_exporter": "python",
   "pygments_lexer": "ipython3",
   "version": "3.7.0"
  }
 },
 "nbformat": 4,
 "nbformat_minor": 2
}
