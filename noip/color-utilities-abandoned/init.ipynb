{
 "cells": [
  {
   "cell_type": "code",
   "execution_count": 1,
   "metadata": {},
   "outputs": [],
   "source": [
    "import numpy as np\n",
    "\n",
    "class RGB_Color(object):\n",
    "    flipdict = {\n",
    "        \"r\": [ 0 , 2 , 1 ],\n",
    "        \"g\": [ 2 , 1 , 0 ],\n",
    "        \"b\": [ 1 , 0 , 2 ],\n",
    "        }\n",
    "\n",
    "    def __init__(self, colorarr):\n",
    "        assert hasattr(colorarr, \"__iter__\")\n",
    "        if isinstance(colorarr, str):\n",
    "            assert colorarr[0] == \"#\"\n",
    "            if len(colorarr) > 6:\n",
    "                self.r = eval(\"0x\" + colorarr[ 1 : 3 ])\n",
    "                self.g = eval(\"0x\" + colorarr[ 3 : 5 ])\n",
    "                self.b = eval(\"0x\" + colorarr[ 5 : 7 ])\n",
    "            else:\n",
    "                self.r = eval(\"0x\" + colorarr[1]) * 17\n",
    "                self.g = eval(\"0x\" + colorarr[2]) * 17\n",
    "                self.b = eval(\"0x\" + colorarr[3]) * 17\n",
    "        else:\n",
    "            self.r = max(0, min(255, round(colorarr[0])))\n",
    "            self.g = max(0, min(255, round(colorarr[1])))\n",
    "            self.b = max(0, min(255, round(colorarr[2])))\n",
    "    \n",
    "    @property\n",
    "    def nparray(self):\n",
    "        return np.array([ self.r, self.g, self.b ])\n",
    "\n",
    "    def __str__(self):\n",
    "        return \"RGB Color %s\" % self.nparray\n",
    "\n",
    "    @property\n",
    "    def lightenessx2(self):\n",
    "        return min(self.r, self.g, self.b) + max(self.r, self.g, self.b)\n",
    "\n",
    "    def __repr__(self):\n",
    "        return \"\"\"<%s\n",
    "    lighteness: %s\n",
    "    at address: %s\n",
    "    >\"\"\" % (self.__str__(), self.lightenessx2 / 2, hex(id(self)))\n",
    "\n",
    "    def lighten(self, ratio):\n",
    "        return RGB_Color(self.nparray * ratio)\n",
    "\n",
    "    def lightenascolor(self, target):\n",
    "        if not isinstance(target, RGB_Color):\n",
    "            target = RGB_Color(target)\n",
    "        return self.lighten(target.lightenessx2 / self.lightenessx2)\n",
    "\n",
    "    def flip(self, axis):\n",
    "        assert len(axis) == 1\n",
    "        return RGB_Color(self.nparray[RGB_Color.flipdict[axis.lower()]])\n",
    "\n",
    "    def spin(self, rev=False):\n",
    "        return RGB_Color(self.nparray[[2,0,1] if rev else [1,2,0]])"
   ]
  },
  {
   "cell_type": "code",
   "execution_count": 2,
   "metadata": {},
   "outputs": [
    {
     "data": {
      "text/plain": [
       "['0xfe', '0xeb', '0xef']"
      ]
     },
     "execution_count": 2,
     "metadata": {},
     "output_type": "execute_result"
    }
   ],
   "source": [
    "[ hex(int(round(each))) for each in list(255 - (255 - RGB_Color(\"#fb859e\").nparray) / 6) ]"
   ]
  },
  {
   "cell_type": "code",
   "execution_count": 17,
   "metadata": {},
   "outputs": [
    {
     "data": {
      "text/plain": [
       "['0xff', '0xa0', '0xbe']"
      ]
     },
     "execution_count": 17,
     "metadata": {},
     "output_type": "execute_result"
    }
   ],
   "source": [
    "[ hex(int(round(each))) for each in RGB_Color(\"#fb859e\").lightenascolor(\"#fbd3ea\").nparray ]"
   ]
  },
  {
   "cell_type": "code",
   "execution_count": 19,
   "metadata": {},
   "outputs": [
    {
     "data": {
      "text/plain": [
       "['0xff', '0xd0', '0xde']"
      ]
     },
     "execution_count": 19,
     "metadata": {},
     "output_type": "execute_result"
    }
   ],
   "source": [
    "[ hex(int(round(each))) for each in list(255 - (255 - RGB_Color(\"#ffa0be\").nparray) / 2) ]"
   ]
  },
  {
   "cell_type": "code",
   "execution_count": null,
   "metadata": {},
   "outputs": [],
   "source": []
  }
 ],
 "metadata": {
  "kernelspec": {
   "display_name": "Python 3",
   "language": "python",
   "name": "python3"
  },
  "language_info": {
   "codemirror_mode": {
    "name": "ipython",
    "version": 3
   },
   "file_extension": ".py",
   "mimetype": "text/x-python",
   "name": "python",
   "nbconvert_exporter": "python",
   "pygments_lexer": "ipython3",
   "version": "3.7.0"
  }
 },
 "nbformat": 4,
 "nbformat_minor": 2
}
